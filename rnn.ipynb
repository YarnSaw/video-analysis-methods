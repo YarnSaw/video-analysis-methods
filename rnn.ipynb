{
 "cells": [
  {
   "cell_type": "code",
   "execution_count": null,
   "metadata": {},
   "outputs": [],
   "source": [
    "from keras.layers import LSTM, Dense\n",
    "from keras.models import Sequential\n",
    "import json\n",
    "\n",
    "sequence_length = 1\n",
    "feature_dim = 1\n",
    "\n",
    "# Define the model\n",
    "model = Sequential()                                                #Create a linear stack of layers - creating instance of sequential class\n",
    "model.add(LSTM(32, input_shape=(sequence_length, feature_dim)))     #Have no idea what values these should be for input shape\n",
    "model.add(Dense(1, activation='sigmoid'))                           #sequence_length: This should be the number of frames in each video.\n",
    "                                                                    #feature_dim: This should be the number of features for each frame in the video\n",
    "\n",
    "# Compile the model\n",
    "model.compile(loss='binary_crossentropy', optimizer='adam', metrics=['accuracy'])    #specify optimizer and loss functions\n",
    "                                                                                     #The optomizer is used to updates weights of the neural network during training\n",
    "                                                                                     #loss function is used to minimize loss function\n",
    "with open(r'C:\\GitHub\\video-analysis-methods\\subset2\\subset-train.json') as file:\n",
    "  x_train = json.load(file)\n",
    "\n",
    "with open(r'C:\\GitHub\\video-analysis-methods\\subset2\\subset-validation.json') as file:\n",
    "  y_train = json.load(file)\n",
    "\n",
    "# Fit the model on the training data\n",
    "model.fit(x_train, y_train, batch_size=32, epochs=10)       #trains the model of the input data for 10 epochs. Model will update its weights 10 time"
   ]
  }
 ],
 "metadata": {
  "kernelspec": {
   "display_name": "Python 3",
   "language": "python",
   "name": "python3"
  },
  "language_info": {
   "name": "python",
   "version": "3.10.8 (tags/v3.10.8:aaaf517, Oct 11 2022, 16:50:30) [MSC v.1933 64 bit (AMD64)]"
  },
  "orig_nbformat": 4,
  "vscode": {
   "interpreter": {
    "hash": "9039dcc8539a3cc3f99116a95e5058518103ea93eacfe57b383e82172a46a631"
   }
  }
 },
 "nbformat": 4,
 "nbformat_minor": 2
}
