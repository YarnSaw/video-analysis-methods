{
 "cells": [
  {
   "cell_type": "code",
   "execution_count": null,
   "metadata": {},
   "outputs": [],
   "source": []
  }
 ],
 "metadata": {
  "kernelspec": {
   "display_name": "Python 3.10.2 64-bit",
   "language": "python",
   "name": "python3"
  },
  "language_info": {
   "name": "python",
   "version": "3.10.2"
  },
  "orig_nbformat": 4,
  "vscode": {
   "interpreter": {
    "hash": "58a66d7bbf596cc668bce0ab9bea31c5eb558b2e4e3050de1ebd0ad57b8e47fd"
   }
  }
 },
 "nbformat": 4,
 "nbformat_minor": 2
}
