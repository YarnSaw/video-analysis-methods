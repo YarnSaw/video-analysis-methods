{
 "cells": [
  {
   "cell_type": "code",
   "execution_count": 48,
   "metadata": {},
   "outputs": [
    {
     "name": "stdout",
     "output_type": "stream",
     "text": [
      "True 240 427 [[[115 123 127]\n",
      "  [115 123 127]\n",
      "  [115 123 127]\n",
      "  ...\n",
      "  [ 34  49  79]\n",
      "  [ 34  49  79]\n",
      "  [ 35  49  81]]\n",
      "\n",
      " [[115 123 127]\n",
      "  [115 123 127]\n",
      "  [115 123 127]\n",
      "  ...\n",
      "  [ 34  49  79]\n",
      "  [ 34  49  79]\n",
      "  [ 34  48  80]]\n",
      "\n",
      " [[115 123 127]\n",
      "  [115 123 127]\n",
      "  [115 123 127]\n",
      "  ...\n",
      "  [ 35  50  80]\n",
      "  [ 35  50  80]\n",
      "  [ 34  48  80]]\n",
      "\n",
      " ...\n",
      "\n",
      " [[  5  13  30]\n",
      "  [ 23  31  48]\n",
      "  [ 46  51  69]\n",
      "  ...\n",
      "  [123 123 121]\n",
      "  [131 131 129]\n",
      "  [112 112 110]]\n",
      "\n",
      " [[  2  11  26]\n",
      "  [ 10  19  34]\n",
      "  [ 23  31  48]\n",
      "  ...\n",
      "  [133 133 131]\n",
      "  [146 146 144]\n",
      "  [122 122 120]]\n",
      "\n",
      " [[  3  12  27]\n",
      "  [  3  12  27]\n",
      "  [  7  15  32]\n",
      "  ...\n",
      "  [117 117 115]\n",
      "  [115 115 113]\n",
      "  [111 111 109]]]\n"
     ]
    }
   ],
   "source": [
    "import cv2\n",
    "\n",
    "video = cv2.VideoCapture('subset/data/100012.webm')\n",
    "\n",
    "ret, frame = video.read() # returns the next frame of the video. Returns none if all frames have been read\n",
    "# also if all frames have been read, then video.isOpened() will be false\n",
    "\n",
    "#     frame loaded   height       width         full frame\n",
    "print(ret,          len(frame), len(frame[1]), frame       )"
   ]
  }
 ],
 "metadata": {
  "kernelspec": {
   "display_name": "Python 3.10.6 64-bit",
   "language": "python",
   "name": "python3"
  },
  "language_info": {
   "codemirror_mode": {
    "name": "ipython",
    "version": 3
   },
   "file_extension": ".py",
   "mimetype": "text/x-python",
   "name": "python",
   "nbconvert_exporter": "python",
   "pygments_lexer": "ipython3",
   "version": "3.10.6"
  },
  "orig_nbformat": 4,
  "vscode": {
   "interpreter": {
    "hash": "916dbcbb3f70747c44a77c7bcd40155683ae19c65e1c03b4aa3499c5328201f1"
   }
  }
 },
 "nbformat": 4,
 "nbformat_minor": 2
}
